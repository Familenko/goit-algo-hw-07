{
 "cells": [
  {
   "cell_type": "code",
   "execution_count": 1,
   "metadata": {},
   "outputs": [],
   "source": [
    "class Node:\n",
    "    def __init__(self, key):\n",
    "        self.left = None\n",
    "        self.right = None\n",
    "        self.val = key\n",
    "\n",
    "    def __str__(self, level=0, prefix=\"Root: \"):\n",
    "        ret = \"\\t\" * level + prefix + str(self.val) + \"\\n\"\n",
    "        if self.left:\n",
    "            ret += self.left.__str__(level + 1, \"L--- \")\n",
    "        if self.right:\n",
    "            ret += self.right.__str__(level + 1, \"R--- \")\n",
    "        return ret\n",
    "\n",
    "def insert(root, key):\n",
    "    if root is None:\n",
    "        return Node(key)\n",
    "    else:\n",
    "        if key < root.val:\n",
    "            root.left = insert(root.left, key)\n",
    "        else:\n",
    "            root.right = insert(root.right, key)\n",
    "    return root\n",
    "\n",
    "def search(root, key):\n",
    "    if root is None or root.val == key:\n",
    "        return root\n",
    "    if key < root.val:\n",
    "        return search(root.left, key)\n",
    "    return search(root.right, key)\n",
    "\n",
    "def min_value_node(node):\n",
    "    current = node\n",
    "    while current.left:\n",
    "        current = current.left\n",
    "    return current\n",
    "\n",
    "def delete(root, key):\n",
    "    if not root:\n",
    "        return root\n",
    "\n",
    "    if key < root.val:\n",
    "        root.left = delete(root.left, key)\n",
    "    elif key > root.val:\n",
    "        root.right = delete(root.right, key)\n",
    "    else:\n",
    "        if not root.left:\n",
    "            temp = root.right\n",
    "            root = None\n",
    "            return temp\n",
    "        elif not root.right:\n",
    "            temp = root.left\n",
    "            root = None\n",
    "            return temp\n",
    "        root.val = min_value_node(root.right).val\n",
    "        root.right = delete(root.right, root.val)\n",
    "    return root"
   ]
  },
  {
   "cell_type": "code",
   "execution_count": 2,
   "metadata": {},
   "outputs": [
    {
     "name": "stdout",
     "output_type": "stream",
     "text": [
      "Root: 5\n",
      "\tL--- 3\n",
      "\t\tL--- 2\n",
      "\t\tR--- 4\n",
      "\tR--- 8\n",
      "\t\tL--- 6\n",
      "\n"
     ]
    }
   ],
   "source": [
    "root = Node(5)\n",
    "root = insert(root, 3)\n",
    "root = insert(root, 2)\n",
    "root = insert(root, 4)\n",
    "root = insert(root, 7)\n",
    "root = insert(root, 6)\n",
    "root = insert(root, 8)\n",
    "\n",
    "root = delete(root, 7)\n",
    "print(root)"
   ]
  },
  {
   "cell_type": "markdown",
   "metadata": {},
   "source": [
    "# Завдання 1"
   ]
  },
  {
   "cell_type": "markdown",
   "metadata": {},
   "source": [
    "Напишіть алгоритм (функцію), який знаходить найбільше значення у двійковому дереві пошуку або в AVL-дереві. Візьміть будь-яку реалізацію дерева з конспекту чи з іншого джерела."
   ]
  },
  {
   "cell_type": "code",
   "execution_count": 3,
   "metadata": {},
   "outputs": [],
   "source": [
    "def find_min_value(node):\n",
    "    while node.left:\n",
    "        node = node.left\n",
    "    return node.val"
   ]
  },
  {
   "cell_type": "code",
   "execution_count": 4,
   "metadata": {},
   "outputs": [
    {
     "data": {
      "text/plain": [
       "2"
      ]
     },
     "execution_count": 4,
     "metadata": {},
     "output_type": "execute_result"
    }
   ],
   "source": [
    "find_min_value(root)"
   ]
  },
  {
   "cell_type": "markdown",
   "metadata": {},
   "source": [
    "# Завдання 2"
   ]
  },
  {
   "cell_type": "markdown",
   "metadata": {},
   "source": [
    "Напишіть алгоритм (функцію), який знаходить найменше значення у двійковому дереві пошуку або в AVL-дереві. Візьміть будь-яку реалізацію дерева з конспекту чи з іншого джерела."
   ]
  },
  {
   "cell_type": "code",
   "execution_count": 5,
   "metadata": {},
   "outputs": [],
   "source": [
    "def find_max_value(node):\n",
    "    while node.right:\n",
    "        node = node.right\n",
    "    return node.val"
   ]
  },
  {
   "cell_type": "code",
   "execution_count": 6,
   "metadata": {},
   "outputs": [
    {
     "data": {
      "text/plain": [
       "8"
      ]
     },
     "execution_count": 6,
     "metadata": {},
     "output_type": "execute_result"
    }
   ],
   "source": [
    "find_max_value(root)"
   ]
  },
  {
   "cell_type": "markdown",
   "metadata": {},
   "source": [
    "# Завдання 3"
   ]
  },
  {
   "cell_type": "markdown",
   "metadata": {},
   "source": [
    "Напишіть алгоритм (функцію), який знаходить суму всіх значень у двійковому дереві пошуку або в AVL-дереві. Візьміть будь-яку реалізацію дерева з конспекту чи з іншого джерела."
   ]
  },
  {
   "cell_type": "code",
   "execution_count": 7,
   "metadata": {},
   "outputs": [],
   "source": [
    "def find_sum(root):    \n",
    "    values = []\n",
    "\n",
    "    def find_values(root):\n",
    "        if root:\n",
    "            values.append(root.val)\n",
    "\n",
    "            find_values(root.left)\n",
    "            find_values(root.right)\n",
    "\n",
    "    find_values(root)\n",
    "\n",
    "    return sum(values)"
   ]
  },
  {
   "cell_type": "code",
   "execution_count": 8,
   "metadata": {},
   "outputs": [
    {
     "data": {
      "text/plain": [
       "28"
      ]
     },
     "execution_count": 8,
     "metadata": {},
     "output_type": "execute_result"
    }
   ],
   "source": [
    "find_sum(root)"
   ]
  }
 ],
 "metadata": {
  "kernelspec": {
   "display_name": "Python 3",
   "language": "python",
   "name": "python3"
  },
  "language_info": {
   "codemirror_mode": {
    "name": "ipython",
    "version": 3
   },
   "file_extension": ".py",
   "mimetype": "text/x-python",
   "name": "python",
   "nbconvert_exporter": "python",
   "pygments_lexer": "ipython3",
   "version": "3.11.3"
  }
 },
 "nbformat": 4,
 "nbformat_minor": 2
}
